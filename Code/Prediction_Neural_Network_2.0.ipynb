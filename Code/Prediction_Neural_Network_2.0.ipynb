{
 "cells": [
  {
   "cell_type": "code",
   "execution_count": 1,
   "metadata": {},
   "outputs": [],
   "source": [
    "# Import necessary libs\n",
    "import numpy as np\n",
    "import pandas as pd\n",
    "\n",
    "from sklearn.model_selection import train_test_split\n",
    "from sklearn.metrics import r2_score, mean_squared_error\n",
    "\n",
    "import torch\n",
    "import torch.nn as nn\n",
    "import torch.nn.functional as F\n",
    "import torch.optim as optim\n",
    "\n",
    "import matplotlib.pyplot as plt"
   ]
  },
  {
   "cell_type": "code",
   "execution_count": 2,
   "metadata": {},
   "outputs": [],
   "source": [
    "# Pre-define some hyperparameters\n",
    "# Define iterations and batch size\n",
    "n_iteration = 200\n",
    "batch_size = 256"
   ]
  },
  {
   "cell_type": "code",
   "execution_count": 3,
   "metadata": {},
   "outputs": [],
   "source": [
    "# Read in data file\n",
    "df_all = pd.read_csv('../Processed Data/AllPlayerDataProcessed.csv')\n",
    "df_gk = pd.read_csv('../Processed Data/GKDataProcessed.csv')\n",
    "df_bk = pd.read_csv('../Processed Data/BKDataProcessed.csv')\n",
    "df_md = pd.read_csv('../Processed Data/MDDataProcessed.csv')\n",
    "df_fwd = pd.read_csv('../Processed Data/FWDDataProcessed.csv')"
   ]
  },
  {
   "cell_type": "code",
   "execution_count": 4,
   "metadata": {},
   "outputs": [],
   "source": [
    "# Here we define the regression model class as follows\n",
    "class RegressionNN(nn.Module):\n",
    "    def __init__(self, inputSize):\n",
    "        super(RegressionNN, self).__init__()\n",
    "        self.fc1 = nn.Linear(inputSize, 32)\n",
    "        self.fc2 = nn.Linear(32, 32)\n",
    "        self.fc3 = nn.Linear(32, 1)\n",
    "    def forward(self, x):\n",
    "        x = F.relu(self.fc1(x))\n",
    "        x = F.relu(self.fc2(x))\n",
    "        x = self.fc3(x)\n",
    "        return x"
   ]
  },
  {
   "cell_type": "code",
   "execution_count": 5,
   "metadata": {},
   "outputs": [],
   "source": [
    "# Transform data into tensor form\n",
    "def Tensorize(df):\n",
    "    target = df.Overall\n",
    "    y = np.array(target, dtype = np.float32)\n",
    "    df_model = df.drop(['Overall', 'Index'], axis = 1)\n",
    "    X = np.array(df_model, dtype = np.float32)\n",
    "\n",
    "    # Splitting data\n",
    "    X_train, X_rem, y_train, y_rem = train_test_split(X, y, train_size=0.8)\n",
    "    X_val, X_test, y_val, y_test = train_test_split(X_rem, y_rem, test_size=0.5)\n",
    "\n",
    "    # Converting data to type torch\n",
    "    X_train_tensor = torch.from_numpy(X_train).float()\n",
    "    X_val_tensor = torch.from_numpy(X_val).float()\n",
    "    X_test_tensor = torch.from_numpy(X_test).float()\n",
    "    y_train_tensor = torch.from_numpy(y_train).float().reshape(y_train.shape[0], 1)\n",
    "    y_val_tensor = torch.from_numpy(y_val).float().reshape(y_val.shape[0], 1)\n",
    "    y_test_tensor = torch.from_numpy(y_test).float().reshape(y_test.shape[0], 1)\n",
    "\n",
    "    # Calculating batch amount\n",
    "    n_train_data = X_train.shape[0]\n",
    "    n_batch = int(np.ceil(n_train_data/batch_size))\n",
    "    return X_train_tensor, X_val_tensor, X_test_tensor, y_train_tensor, y_val_tensor, y_test_tensor, n_batch"
   ]
  },
  {
   "cell_type": "code",
   "execution_count": 6,
   "metadata": {},
   "outputs": [],
   "source": [
    "# Model training\n",
    "def Train_Regression(model, optimizer, criterion, n_batch):\n",
    "    for i in range(n_iteration):\n",
    "        # Train with batch GD\n",
    "        for j in range(n_batch):\n",
    "            batch_start_index = j*batch_size\n",
    "            X_batch = X_train_tensor[batch_start_index:batch_start_index+batch_size]\n",
    "            y_batch = y_train_tensor[batch_start_index:batch_start_index+batch_size]\n",
    "\n",
    "            y_out = model(X_batch)\n",
    "            loss = criterion(y_out, y_batch)\n",
    "            \n",
    "            optimizer.zero_grad()\n",
    "            loss.backward()\n",
    "            optimizer.step()"
   ]
  },
  {
   "cell_type": "code",
   "execution_count": 7,
   "metadata": {},
   "outputs": [],
   "source": [
    "# Neural network to predict ratings for arbitrary players\n",
    "# Data from all players\n",
    "X_train_tensor, X_val_tensor, X_test_tensor, y_train_tensor, y_val_tensor, y_test_tensor, n_batch = Tensorize(df_all)"
   ]
  },
  {
   "cell_type": "code",
   "execution_count": 8,
   "metadata": {},
   "outputs": [
    {
     "name": "stderr",
     "output_type": "stream",
     "text": [
      "C:\\Users\\lhc\\AppData\\Local\\Programs\\Python\\Python36\\lib\\site-packages\\torch\\nn\\_reduction.py:42: UserWarning: size_average and reduce args will be deprecated, please use reduction='sum' instead.\n",
      "  warnings.warn(warning.format(ret))\n"
     ]
    }
   ],
   "source": [
    "# Regression model for all data\n",
    "regressor_all = RegressionNN(X_train_tensor.shape[1])\n",
    "optimizer = optim.Adam(regressor_all.parameters(), lr=1e-3)\n",
    "criterion = nn.MSELoss(size_average=False)\n",
    "\n",
    "# Training\n",
    "Train_Regression(regressor_all, optimizer, criterion, n_batch)"
   ]
  },
  {
   "cell_type": "code",
   "execution_count": 9,
   "metadata": {},
   "outputs": [
    {
     "name": "stdout",
     "output_type": "stream",
     "text": [
      "r2 score: 0.977599514064028\n",
      "RMSE : 1.0295062\n"
     ]
    }
   ],
   "source": [
    "# Testing\n",
    "y_test_out = regressor_all(X_test_tensor)\n",
    "\n",
    "#Finding the r2 score and root mean squared error\n",
    "print('r2 score: '+str(r2_score(y_test_tensor, y_test_out.detach().numpy())))\n",
    "print('RMSE : '+str(np.sqrt(mean_squared_error(y_test_tensor, y_test_out.detach().numpy()))))"
   ]
  },
  {
   "cell_type": "code",
   "execution_count": 10,
   "metadata": {},
   "outputs": [],
   "source": [
    "# Neural network to predict ratings for goalkeepers\n",
    "# Data from goalkeepers\n",
    "X_train_tensor, X_val_tensor, X_test_tensor, y_train_tensor, y_val_tensor, y_test_tensor_gk, n_batch = Tensorize(df_gk)"
   ]
  },
  {
   "cell_type": "code",
   "execution_count": 11,
   "metadata": {},
   "outputs": [
    {
     "name": "stderr",
     "output_type": "stream",
     "text": [
      "C:\\Users\\lhc\\AppData\\Local\\Programs\\Python\\Python36\\lib\\site-packages\\torch\\nn\\_reduction.py:42: UserWarning: size_average and reduce args will be deprecated, please use reduction='sum' instead.\n",
      "  warnings.warn(warning.format(ret))\n"
     ]
    }
   ],
   "source": [
    "# Regression model for goalkeepers\n",
    "regressor_gk = RegressionNN(X_train_tensor.shape[1])\n",
    "optimizer = optim.Adam(regressor_gk.parameters(), lr=1e-3)\n",
    "criterion = nn.MSELoss(size_average=False)\n",
    "\n",
    "# Training\n",
    "Train_Regression(regressor_gk, optimizer, criterion, n_batch)"
   ]
  },
  {
   "cell_type": "code",
   "execution_count": 12,
   "metadata": {},
   "outputs": [
    {
     "name": "stdout",
     "output_type": "stream",
     "text": [
      "r2 score: 0.9641374348172952\n",
      "RMSE : 1.4356254\n"
     ]
    }
   ],
   "source": [
    "# Testing\n",
    "y_test_out_gk = regressor_all(X_test_tensor)\n",
    "\n",
    "#Finding the r2 score and root mean squared error\n",
    "print('r2 score: '+str(r2_score(y_test_tensor_gk, y_test_out_gk.detach().numpy())))\n",
    "print('RMSE : '+str(np.sqrt(mean_squared_error(y_test_tensor_gk, y_test_out_gk.detach().numpy()))))"
   ]
  },
  {
   "cell_type": "code",
   "execution_count": 13,
   "metadata": {},
   "outputs": [],
   "source": [
    "# Neural network to predict ratings for backfielders\n",
    "# Data from backfielders\n",
    "X_train_tensor, X_val_tensor, X_test_tensor, y_train_tensor, y_val_tensor, y_test_tensor_bk, n_batch = Tensorize(df_bk)"
   ]
  },
  {
   "cell_type": "code",
   "execution_count": 14,
   "metadata": {},
   "outputs": [
    {
     "name": "stderr",
     "output_type": "stream",
     "text": [
      "C:\\Users\\lhc\\AppData\\Local\\Programs\\Python\\Python36\\lib\\site-packages\\torch\\nn\\_reduction.py:42: UserWarning: size_average and reduce args will be deprecated, please use reduction='sum' instead.\n",
      "  warnings.warn(warning.format(ret))\n"
     ]
    }
   ],
   "source": [
    "# Regression model for backfielders\n",
    "regressor_bk = RegressionNN(X_train_tensor.shape[1])\n",
    "optimizer = optim.Adam(regressor_bk.parameters(), lr=1e-3)\n",
    "criterion = nn.MSELoss(size_average=False)\n",
    "\n",
    "# Training\n",
    "Train_Regression(regressor_bk, optimizer, criterion, n_batch)"
   ]
  },
  {
   "cell_type": "code",
   "execution_count": 15,
   "metadata": {},
   "outputs": [
    {
     "name": "stdout",
     "output_type": "stream",
     "text": [
      "r2 score: 0.9815436512675034\n",
      "RMSE : 0.8334107\n"
     ]
    }
   ],
   "source": [
    "# Testing\n",
    "y_test_out_bk = regressor_all(X_test_tensor)\n",
    "\n",
    "#Finding the r2 score and root mean squared error\n",
    "print('r2 score: '+str(r2_score(y_test_tensor_bk, y_test_out_bk.detach().numpy())))\n",
    "print('RMSE : '+str(np.sqrt(mean_squared_error(y_test_tensor_bk, y_test_out_bk.detach().numpy()))))"
   ]
  },
  {
   "cell_type": "code",
   "execution_count": 16,
   "metadata": {},
   "outputs": [],
   "source": [
    "# Neural network to predict ratings for midfielders\n",
    "# Data from midfielders\n",
    "X_train_tensor, X_val_tensor, X_test_tensor, y_train_tensor, y_val_tensor, y_test_tensor_md, n_batch = Tensorize(df_md)"
   ]
  },
  {
   "cell_type": "code",
   "execution_count": 17,
   "metadata": {},
   "outputs": [
    {
     "name": "stderr",
     "output_type": "stream",
     "text": [
      "C:\\Users\\lhc\\AppData\\Local\\Programs\\Python\\Python36\\lib\\site-packages\\torch\\nn\\_reduction.py:42: UserWarning: size_average and reduce args will be deprecated, please use reduction='sum' instead.\n",
      "  warnings.warn(warning.format(ret))\n"
     ]
    }
   ],
   "source": [
    "# Regression model for midfielders\n",
    "regressor_md = RegressionNN(X_train_tensor.shape[1])\n",
    "optimizer = optim.Adam(regressor_md.parameters(), lr=1e-3)\n",
    "criterion = nn.MSELoss(size_average=False)\n",
    "\n",
    "# Training\n",
    "Train_Regression(regressor_md, optimizer, criterion, n_batch)"
   ]
  },
  {
   "cell_type": "code",
   "execution_count": 18,
   "metadata": {},
   "outputs": [
    {
     "name": "stdout",
     "output_type": "stream",
     "text": [
      "r2 score: 0.9767729645961384\n",
      "RMSE : 1.0204599\n"
     ]
    }
   ],
   "source": [
    "# Testing\n",
    "y_test_out_md = regressor_all(X_test_tensor)\n",
    "\n",
    "#Finding the r2 score and root mean squared error\n",
    "print('r2 score: '+str(r2_score(y_test_tensor_md, y_test_out_md.detach().numpy())))\n",
    "print('RMSE : '+str(np.sqrt(mean_squared_error(y_test_tensor_md, y_test_out_md.detach().numpy()))))"
   ]
  },
  {
   "cell_type": "code",
   "execution_count": 19,
   "metadata": {},
   "outputs": [],
   "source": [
    "# Neural network to predict ratings for strikers / forwards\n",
    "# Data from strikers\n",
    "X_train_tensor, X_val_tensor, X_test_tensor, y_train_tensor, y_val_tensor, y_test_tensor_fwd, n_batch = Tensorize(df_fwd)"
   ]
  },
  {
   "cell_type": "code",
   "execution_count": 20,
   "metadata": {},
   "outputs": [
    {
     "name": "stderr",
     "output_type": "stream",
     "text": [
      "C:\\Users\\lhc\\AppData\\Local\\Programs\\Python\\Python36\\lib\\site-packages\\torch\\nn\\_reduction.py:42: UserWarning: size_average and reduce args will be deprecated, please use reduction='sum' instead.\n",
      "  warnings.warn(warning.format(ret))\n"
     ]
    }
   ],
   "source": [
    "# Regression model for strikers\n",
    "regressor_fwd = RegressionNN(X_train_tensor.shape[1])\n",
    "optimizer = optim.Adam(regressor_fwd.parameters(), lr=1e-3)\n",
    "criterion = nn.MSELoss(size_average=False)\n",
    "\n",
    "# Training\n",
    "Train_Regression(regressor_fwd, optimizer, criterion, n_batch)"
   ]
  },
  {
   "cell_type": "code",
   "execution_count": 21,
   "metadata": {},
   "outputs": [
    {
     "name": "stdout",
     "output_type": "stream",
     "text": [
      "r2 score: 0.9886810659471733\n",
      "RMSE : 0.70609134\n"
     ]
    }
   ],
   "source": [
    "# Testing\n",
    "y_test_out_fwd = regressor_all(X_test_tensor)\n",
    "\n",
    "#Finding the r2 score and root mean squared error\n",
    "print('r2 score: '+str(r2_score(y_test_tensor_fwd, y_test_out_fwd.detach().numpy())))\n",
    "print('RMSE : '+str(np.sqrt(mean_squared_error(y_test_tensor_fwd, y_test_out_fwd.detach().numpy()))))"
   ]
  },
  {
   "cell_type": "code",
   "execution_count": 22,
   "metadata": {},
   "outputs": [
    {
     "name": "stderr",
     "output_type": "stream",
     "text": [
      "C:\\Users\\lhc\\AppData\\Local\\Programs\\Python\\Python36\\lib\\site-packages\\ipykernel_launcher.py:24: UserWarning: Matplotlib is currently using module://ipykernel.pylab.backend_inline, which is a non-GUI backend, so cannot show the figure.\n"
     ]
    },
    {
     "data": {
      "image/png": "[encoded data removed]",
      "text/plain": [
       "<Figure size 864x576 with 4 Axes>"
      ]
     },
     "metadata": {
      "needs_background": "light"
     },
     "output_type": "display_data"
    }
   ],
   "source": [
    "# Plotting each results\n",
    "figs = plt.figure(figsize=(12,8))\n",
    "fig_gk = figs.add_subplot(2,2,1)\n",
    "fig_gk.scatter(y_test_out_gk.detach().numpy(), y_test_tensor_gk.numpy(), s = 3)\n",
    "fig_gk.set_title(\"Goalkeepers\")\n",
    "fig_gk.set_xlabel(\"Predictions\")\n",
    "fig_gk.set_ylabel(\"Overall Rating\")\n",
    "fig_bk = figs.add_subplot(2,2,2)\n",
    "fig_bk.scatter(y_test_out_bk.detach().numpy(), y_test_tensor_bk.numpy(), s = 3)\n",
    "fig_bk.set_title(\"Backfielders\")\n",
    "fig_bk.set_xlabel(\"Predictions\")\n",
    "fig_bk.set_ylabel(\"Overall Rating\")\n",
    "fig_md = figs.add_subplot(2,2,3)\n",
    "fig_md.scatter(y_test_out_md.detach().numpy(), y_test_tensor_md.numpy(), s = 3)\n",
    "fig_md.set_title(\"Midfielders\")\n",
    "fig_md.set_xlabel(\"Predictions\")\n",
    "fig_md.set_ylabel(\"Overall Rating\")\n",
    "fig_fwd = figs.add_subplot(2,2,4)\n",
    "fig_fwd.scatter(y_test_out_fwd.detach().numpy(), y_test_tensor_fwd.numpy(), s = 3)\n",
    "fig_fwd.set_title(\"Strikers\")\n",
    "fig_fwd.set_xlabel(\"Predictions\")\n",
    "fig_fwd.set_ylabel(\"Overall Rating\")\n",
    "figs.subplots_adjust(hspace=0.4)\n",
    "figs.show()"
   ]
  }
 ],
 "metadata": {
  "interpreter": {
   "hash": "00c6c79462e3eca5d9d24a224f7295bda4e19f4a641cfb433d4edb96ab095c52"
  },
  "kernelspec": {
   "display_name": "Python 3.6.4 64-bit",
   "language": "python",
   "name": "python3"
  },
  "language_info": {
   "codemirror_mode": {
    "name": "ipython",
    "version": 3
   },
   "file_extension": ".py",
   "mimetype": "text/x-python",
   "name": "python",
   "nbconvert_exporter": "python",
   "pygments_lexer": "ipython3",
   "version": "3.6.4"
  },
  "orig_nbformat": 4
 },
 "nbformat": 4,
 "nbformat_minor": 2
}
