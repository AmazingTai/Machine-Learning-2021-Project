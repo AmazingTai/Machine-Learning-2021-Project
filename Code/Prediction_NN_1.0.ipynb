{
 "cells": [
  {
   "cell_type": "code",
   "execution_count": 13,
   "metadata": {},
   "outputs": [],
   "source": [
    "# Import necessary libs\n",
    "import numpy as np\n",
    "import pandas as pd\n",
    "\n",
    "import torch\n",
    "import torch.nn as nn\n",
    "import torch.nn.functional as F\n",
    "import torch.optim as optim\n",
    "\n",
    "import matplotlib.pyplot as plt"
   ]
  },
  {
   "cell_type": "code",
   "execution_count": 14,
   "metadata": {},
   "outputs": [],
   "source": [
    "# Read in data file\n",
    "df_all = pd.read_csv('../Processed Data/AllPlayerDataProcessed.csv')\n",
    "df_gk = pd.read_csv('../Processed Data/GKDataProcessed.csv')\n",
    "df_bk = pd.read_csv('../Processed Data/BKDataProcessed.csv')\n",
    "df_md = pd.read_csv('../Processed Data/MDDataProcessed.csv')\n",
    "df_fwd = pd.read_csv('../Processed Data/FWDDataProcessed.csv')"
   ]
  },
  {
   "cell_type": "code",
   "execution_count": 15,
   "metadata": {},
   "outputs": [
    {
     "name": "stdout",
     "output_type": "stream",
     "text": [
      "(14517, 36)\n"
     ]
    }
   ],
   "source": [
    "# Split data into training set and testing set\n",
    "# First split Overall as a target value\n",
    "target = df_all.Overall\n",
    "y = np.array(target, dtype = np.float32)\n",
    "df_model = df_all.drop(['Overall', 'Index', 'Position'], axis = 1)\n",
    "X = np.array(df_model, dtype = np.float32)\n",
    "\n",
    "# Then split data into test and train\n",
    "from sklearn.model_selection import train_test_split\n",
    "X_train, X_rem, y_train, y_rem = train_test_split(X, y, train_size=0.8)\n",
    "X_val, X_test, y_val, y_test = train_test_split(X_rem, y_rem, test_size=0.5)\n",
    "print(X_train.shape)"
   ]
  },
  {
   "cell_type": "code",
   "execution_count": 16,
   "metadata": {},
   "outputs": [],
   "source": [
    "# Here we define the regression model class as follows\n",
    "class RegressionNN(nn.Module):\n",
    "    def __init__(self):\n",
    "        super(RegressionNN, self).__init__()\n",
    "        self.fc1 = nn.Linear(36, 32)\n",
    "        self.fc2 = nn.Linear(32, 32)\n",
    "        self.fc3 = nn.Linear(32, 1)\n",
    "    def forward(self, x):\n",
    "        x = F.relu(self.fc1(x))\n",
    "        x = F.relu(self.fc2(x))\n",
    "        x = self.fc3(x)\n",
    "        return x\n",
    "\n",
    "regressor = RegressionNN()\n",
    "# Below we initialize optimizer and loss function\n",
    "optimizer = optim.Adam(regressor.parameters(), lr=1e-3)\n",
    "criterion = nn.MSELoss(size_average=False)"
   ]
  },
  {
   "cell_type": "code",
   "execution_count": 17,
   "metadata": {},
   "outputs": [],
   "source": [
    "# Define iterations and batch size\n",
    "n_iteration = 200\n",
    "batch_size = 256\n",
    "n_train_data = X_train.shape[0]\n",
    "n_batch = int(np.ceil(n_train_data/batch_size))\n",
    "\n",
    "# Convert training data and testing data to tensor format\n",
    "X_train_tensor = torch.from_numpy(X_train).float()\n",
    "X_val_tensor = torch.from_numpy(X_val).float()\n",
    "y_train_tensor = torch.from_numpy(y_train).float().reshape(14517, 1)\n",
    "y_val_tensor = torch.from_numpy(y_val).float().reshape(1815, 1)"
   ]
  },
  {
   "cell_type": "code",
   "execution_count": 18,
   "metadata": {},
   "outputs": [],
   "source": [
    "## start \n",
    "train_loss_list = np.zeros(n_iteration)\n",
    "val_loss_list = np.zeros(n_iteration)\n",
    "\n",
    "for i in range(n_iteration):\n",
    "    ave_train_loss = 0\n",
    "    # Train with batch GD\n",
    "    for j in range(n_batch):\n",
    "        batch_start_index = j*batch_size\n",
    "        X_batch = X_train_tensor[batch_start_index:batch_start_index+batch_size]\n",
    "        y_batch = y_train_tensor[batch_start_index:batch_start_index+batch_size]\n",
    "\n",
    "        # training\n",
    "        y_out = regressor(X_batch)\n",
    "        loss = criterion(y_out, y_batch)\n",
    "        \n",
    "        # update params\n",
    "        optimizer.zero_grad()\n",
    "        loss.backward()\n",
    "        optimizer.step()\n",
    "\n",
    "    # Validation\n",
    "    y_val_out = regressor(X_val_tensor)"
   ]
  },
  {
   "cell_type": "code",
   "execution_count": 19,
   "metadata": {},
   "outputs": [
    {
     "name": "stdout",
     "output_type": "stream",
     "text": [
      "<class 'numpy.ndarray'>\n",
      "r2 score: 0.9881240994376311\n",
      "RMSE : 0.7790456\n"
     ]
    }
   ],
   "source": [
    "# Testing\n",
    "X_test_tensor = torch.from_numpy(X_test).float()\n",
    "y_test_tensor = torch.from_numpy(y_test).float().reshape(1815, 1)\n",
    "y_test_out = regressor(X_test_tensor)\n",
    "print(type(y_test))\n",
    "\n",
    "#Finding the r2 score and root mean squared error\n",
    "from sklearn.metrics import r2_score, mean_squared_error\n",
    "print('r2 score: '+str(r2_score(y_test, y_test_out.detach().numpy())))\n",
    "print('RMSE : '+str(np.sqrt(mean_squared_error(y_test, y_test_out.detach().numpy()))))"
   ]
  },
  {
   "cell_type": "code",
   "execution_count": 20,
   "metadata": {},
   "outputs": [
    {
     "data": {
      "image/png": "[encoded data removed]",
      "text/plain": [
       "<Figure size 1296x720 with 1 Axes>"
      ]
     },
     "metadata": {
      "needs_background": "light"
     },
     "output_type": "display_data"
    }
   ],
   "source": [
    "# Plot the results\n",
    "plt.figure(figsize=(18,10))\n",
    "plt.scatter(y_test_out.detach().numpy(), y_test)\n",
    "plt.xlabel(\"Predictors\")\n",
    "plt.ylabel('Overall')\n",
    "plt.title(\"Linear Model for Overall Rating Prediction\")\n",
    "plt.show()"
   ]
  }
 ],
 "metadata": {
  "interpreter": {
   "hash": "00c6c79462e3eca5d9d24a224f7295bda4e19f4a641cfb433d4edb96ab095c52"
  },
  "kernelspec": {
   "display_name": "Python 3.6.4 64-bit",
   "language": "python",
   "name": "python3"
  },
  "language_info": {
   "codemirror_mode": {
    "name": "ipython",
    "version": 3
   },
   "file_extension": ".py",
   "mimetype": "text/x-python",
   "name": "python",
   "nbconvert_exporter": "python",
   "pygments_lexer": "ipython3",
   "version": "3.6.4"
  },
  "orig_nbformat": 4
 },
 "nbformat": 4,
 "nbformat_minor": 2
}
